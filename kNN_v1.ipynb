{
 "cells": [
  {
   "cell_type": "code",
   "execution_count": 29,
   "metadata": {},
   "outputs": [],
   "source": [
    "import pandas as pd\n",
    "import numpy as np\n",
    "import sympy as sp\n",
    "import math\n",
    "from sklearn import linear_model\n",
    "from sklearn.model_selection import train_test_split\n",
    "from operator import itemgetter"
   ]
  },
  {
   "cell_type": "code",
   "execution_count": 30,
   "metadata": {},
   "outputs": [],
   "source": [
    "from IPython.core.interactiveshell import InteractiveShell\n",
    "\n",
    "InteractiveShell.ast_node_interactivity = \"all\""
   ]
  },
  {
   "cell_type": "markdown",
   "metadata": {},
   "source": [
    "#### Test 1: Solve overdetermined system of equations with least squares solution"
   ]
  },
  {
   "cell_type": "code",
   "execution_count": 31,
   "metadata": {},
   "outputs": [],
   "source": [
    "# Adjust data set\n",
    "df_pre = pd.read_csv(\"BABA_2014_2018.csv\")\n",
    "df_pre.columns = df_pre.columns.str.strip().str.replace(' ', '_').str.replace('(', '').str.replace(')', '')\n",
    "#df_pre[df_pre['Date'] == '9/19/14']\n",
    "df_pre['Ones'] = 1\n",
    "df_pre['RSI_yesterday'] = df_pre.RSI.shift(+1)\n",
    "df_pre['MACD_yesterday'] = df_pre.MACD.shift(+1)\n",
    "df_pre['Stochastic_RSI_yesterday'] = df_pre.Stochastic.shift(+1)\n",
    "df_pre['Stochastic_SMA_yesterday'] = df_pre.Stochastic_SMA.shift(+1)\n",
    "df = df_pre.loc[30:]\n",
    "#df_pre = df_pre.loc[830:] # Looking only at 2018; include 'Dates' column to check\n",
    "df = df[['Date', 'RSI_yesterday', 'MACD_yesterday', 'Stochastic_RSI_yesterday', 'Stochastic_SMA_yesterday', 'delta']]"
   ]
  },
  {
   "cell_type": "code",
   "execution_count": 32,
   "metadata": {},
   "outputs": [],
   "source": [
    "# for index, row in df.iterrows():\n",
    "#    print (row[2])"
   ]
  },
  {
   "cell_type": "code",
   "execution_count": 33,
   "metadata": {},
   "outputs": [
    {
     "data": {
      "text/plain": [
       "Index(['Date', 'RSI_yesterday', 'MACD_yesterday', 'Stochastic_RSI_yesterday',\n",
       "       'Stochastic_SMA_yesterday', 'delta'],\n",
       "      dtype='object')"
      ]
     },
     "execution_count": 33,
     "metadata": {},
     "output_type": "execute_result"
    }
   ],
   "source": [
    "df.columns"
   ]
  },
  {
   "cell_type": "code",
   "execution_count": 34,
   "metadata": {},
   "outputs": [],
   "source": [
    "# Split data between training set and validation set\n",
    "train, test = train_test_split(df, test_size=0.33)"
   ]
  },
  {
   "cell_type": "code",
   "execution_count": 35,
   "metadata": {},
   "outputs": [
    {
     "name": "stdout",
     "output_type": "stream",
     "text": [
      "341\n"
     ]
    }
   ],
   "source": [
    "# Create X and y matrices from features and outputs\n",
    "features_train = train[['Date', 'RSI_yesterday', 'MACD_yesterday', 'Stochastic_RSI_yesterday', 'Stochastic_SMA_yesterday']].copy()\n",
    "labels_train = train[['Date','delta']].copy()\n",
    "features_test = test[['Date', 'RSI_yesterday', 'MACD_yesterday', 'Stochastic_RSI_yesterday', 'Stochastic_SMA_yesterday']].copy()\n",
    "labels_test = test[['Date', 'delta']].copy()\n",
    "\n",
    "# create numpy arrays from pandas dataframes to solve\n",
    "# ft = features_train.values\n",
    "# labels = labels_train.values\n",
    "# ft_test = feaures_test.values\n",
    "# labels_test = labels_test.values\n",
    "print (labels_test.shape[0])"
   ]
  },
  {
   "cell_type": "code",
   "execution_count": 38,
   "metadata": {},
   "outputs": [],
   "source": [
    "# pass in rows x and y\n",
    "def distance(x,y,amtFeatures,pwr):\n",
    "    dist = 0\n",
    "    for i in range(1, amtFeatures+1):\n",
    "        dist += pow(abs(x[i] - y[i]), pwr)\n",
    "    return dist ** (1/float(pwr))"
   ]
  },
  {
   "cell_type": "code",
   "execution_count": 41,
   "metadata": {},
   "outputs": [],
   "source": [
    "def find_kNN(data, labels, sample, k, amtFeatures, pwr):\n",
    "    distances = []\n",
    "    counts = {'Up': 0, 'Down': 0, 'Neutral': 0}\n",
    "    \n",
    "    for row in range(data.shape[0]):\n",
    "        point = data.iloc[row]\n",
    "        d = distance(x=point, y=sample, amtFeatures=amtFeatures, pwr=pwr)\n",
    "        distances.append((point[0], d))\n",
    "    \n",
    "    distances.sort(key=itemgetter(1))\n",
    "\n",
    "    NN = []\n",
    "    \n",
    "    for pt in range(k):        \n",
    "        date = distances[pt][0]\n",
    "        label_row = labels[labels['Date'] == date]\n",
    "        NN.append((date, label_row.iloc[0][1]))\n",
    "    \n",
    "    for pt in NN:\n",
    "        if pt[1] == 'Up':\n",
    "            counts['Up'] =+ 1\n",
    "        if pt[1] == 'Down':\n",
    "            counts['Down'] =+ 1\n",
    "        if pt[1] == 'Neutral':\n",
    "            counts['Neutral'] =+ 1\n",
    "\n",
    "    prediction = max(counts, key=counts.get)\n",
    "\n",
    "#     print ('NN are', NN)\n",
    "#     print (prediction)\n",
    "    \n",
    "    return prediction"
   ]
  },
  {
   "cell_type": "code",
   "execution_count": 42,
   "metadata": {
    "scrolled": true
   },
   "outputs": [
    {
     "data": {
      "text/plain": [
       "'Up'"
      ]
     },
     "execution_count": 42,
     "metadata": {},
     "output_type": "execute_result"
    }
   ],
   "source": [
    "find_kNN(data=features_train, labels=labels_train, sample=sample, k=5, amtFeatures=4, pwr=2)"
   ]
  },
  {
   "cell_type": "markdown",
   "metadata": {},
   "source": [
    "### Testing accuracy of kNN"
   ]
  },
  {
   "cell_type": "code",
   "execution_count": 47,
   "metadata": {},
   "outputs": [
    {
     "name": "stdout",
     "output_type": "stream",
     "text": [
      "Accuracy:  166 / 341 , or  0.4868035190615836\n"
     ]
    }
   ],
   "source": [
    "# choose k (must be odd), Minkowski distance power, and amount of features\n",
    "k = 7\n",
    "pwr = 2\n",
    "amtfeatures = 4\n",
    "\n",
    "# counter\n",
    "correct = 0\n",
    "\n",
    "for i in range(features_test.shape[0]):\n",
    "    prediction = find_kNN(data=features_train, labels=labels_train, sample=features_test.iloc[i], k=k, amtFeatures=amtfeatures, pwr=pwr)\n",
    "    actual = labels_test.iloc[i][1]\n",
    "    if prediction == actual:\n",
    "        correct += 1\n",
    "print ('Accuracy: ', correct, '/', features_test.shape[0], ', or ', correct/features_test.shape[0])"
   ]
  }
 ],
 "metadata": {
  "kernelspec": {
   "display_name": "Python 3",
   "language": "python",
   "name": "python3"
  },
  "language_info": {
   "codemirror_mode": {
    "name": "ipython",
    "version": 3
   },
   "file_extension": ".py",
   "mimetype": "text/x-python",
   "name": "python",
   "nbconvert_exporter": "python",
   "pygments_lexer": "ipython3",
   "version": "3.7.1"
  }
 },
 "nbformat": 4,
 "nbformat_minor": 2
}
